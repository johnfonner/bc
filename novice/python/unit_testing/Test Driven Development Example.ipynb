{
 "metadata": {
  "name": "",
  "signature": "sha256:cefb99e528e465fea8d0b1308b16c020da7441e6b604cbc6c94b3209ae3f4f71"
 },
 "nbformat": 3,
 "nbformat_minor": 0,
 "worksheets": [
  {
   "cells": [
    {
     "cell_type": "code",
     "collapsed": false,
     "input": [
      "import itertools\n",
      "def something(myList):\n",
      "    return(map(tuple,itertools.combinations(myList, 2)))\n",
      "    "
     ],
     "language": "python",
     "metadata": {},
     "outputs": [],
     "prompt_number": 39
    },
    {
     "cell_type": "code",
     "collapsed": false,
     "input": [
      "def test_empty():\n",
      "    assert something([]) == []\n",
      "\n",
      "def test_single_value():\n",
      "    assert something(['a']) == []\n",
      "\n",
      "def test_two_values():\n",
      "    assert something(['a', 'b']) == [('a', 'b')]\n",
      "\n",
      "def test_three_values():\n",
      "    assert something(['a', 'b', 'c']) == [('a', 'b'), ('a', 'c'), ('b', 'c')]"
     ],
     "language": "python",
     "metadata": {},
     "outputs": [],
     "prompt_number": 40
    },
    {
     "cell_type": "code",
     "collapsed": false,
     "input": [
      "something(['a','b'])"
     ],
     "language": "python",
     "metadata": {},
     "outputs": [
      {
       "metadata": {},
       "output_type": "pyout",
       "prompt_number": 41,
       "text": [
        "[('a', 'b')]"
       ]
      }
     ],
     "prompt_number": 41
    },
    {
     "cell_type": "code",
     "collapsed": false,
     "input": [
      "import ears"
     ],
     "language": "python",
     "metadata": {},
     "outputs": [],
     "prompt_number": 42
    },
    {
     "cell_type": "code",
     "collapsed": false,
     "input": [
      "ears.run()"
     ],
     "language": "python",
     "metadata": {},
     "outputs": [
      {
       "output_type": "stream",
       "stream": "stdout",
       "text": [
        "....\n",
        "4 pass, 0 fail, 0 error\n"
       ]
      }
     ],
     "prompt_number": 43
    },
    {
     "cell_type": "code",
     "collapsed": false,
     "input": [
      "map(list, itertools.combinations(['a', 'b', 'c'], 2))"
     ],
     "language": "python",
     "metadata": {},
     "outputs": [
      {
       "metadata": {},
       "output_type": "pyout",
       "prompt_number": 21,
       "text": [
        "[['a', 'b'], ['a', 'c'], ['b', 'c']]"
       ]
      }
     ],
     "prompt_number": 21
    },
    {
     "cell_type": "code",
     "collapsed": false,
     "input": [],
     "language": "python",
     "metadata": {},
     "outputs": []
    }
   ],
   "metadata": {}
  }
 ]
}